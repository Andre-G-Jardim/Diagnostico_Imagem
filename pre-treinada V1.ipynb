{
 "cells": [
  {
   "cell_type": "code",
   "execution_count": 1,
   "id": "a07cd638",
   "metadata": {},
   "outputs": [],
   "source": [
    "import os\n",
    "os.environ['CUDA_VISIBLE_DEVICES'] = '-1'\n",
    "import cv2\n",
    "import time\n",
    "import numpy as np\n",
    "import keras as ke\n",
    "import pandas as pd\n",
    "import seaborn as sns\n",
    "import tensorflow as tf\n",
    "import matplotlib.pyplot as plt\n",
    "\n",
    "from tensorflow.keras import Input\n",
    "from tensorflow.keras.optimizers import Adam\n",
    "from tensorflow.keras.utils import to_categorical\n",
    "from tensorflow.keras.models import Sequential, Model\n",
    "from tensorflow.keras.layers import Dense, Dropout, Flatten, Conv2D, MaxPooling2D, BatchNormalization, LeakyReLU, GlobalAveragePooling2D\n",
    "from skimage.transform import resize\n",
    "from sklearn.model_selection import train_test_split\n",
    "from sklearn.model_selection import KFold\n",
    "from sklearn.metrics import classification_report\n",
    "from sklearn.metrics import confusion_matrix\n",
    "\n",
    "\n",
    "from scipy.spatial.distance import pdist, squareform\n",
    "\n",
    "%config Completer.use_jedi = False\n",
    "\n",
    "import warnings\n",
    "warnings.simplefilter(\"ignore\")"
   ]
  },
  {
   "cell_type": "markdown",
   "id": "ee1246c0",
   "metadata": {},
   "source": [
    "## Importando Imagens do Banco"
   ]
  },
  {
   "cell_type": "code",
   "execution_count": 2,
   "id": "23726ec2",
   "metadata": {},
   "outputs": [
    {
     "name": "stdout",
     "output_type": "stream",
     "text": [
      "tempo de execução:6.2s\n"
     ]
    }
   ],
   "source": [
    "t1=time.time()\n",
    "t2=time.time()\n",
    "\n",
    "TAMANHO_XY = 120\n",
    "\n",
    "# Vetores de imagens e labels\n",
    "image_data = []\n",
    "label_data = []\n",
    "\n",
    "for filename in os.listdir('no/'):\n",
    "    img = cv2.imread(os.path.join('no/',filename), cv2.IMREAD_GRAYSCALE)\n",
    "    if img is not None:\n",
    "        image_data.append(np.array(cv2.resize(img, (TAMANHO_XY, TAMANHO_XY), interpolation=cv2.INTER_AREA)))\n",
    "        label_data.append(0)\n",
    "        \n",
    "for filename in os.listdir('yes/'):\n",
    "    img = cv2.imread(os.path.join('yes/',filename), cv2.IMREAD_GRAYSCALE)\n",
    "    if img is not None:\n",
    "        image_data.append(np.array(cv2.resize(img, (TAMANHO_XY, TAMANHO_XY), interpolation=cv2.INTER_AREA)))\n",
    "        label_data.append(1)\n",
    "\n",
    "print(\"tempo de execução:\"+str(round(time.time()-t1,2))+\"s\")"
   ]
  },
  {
   "cell_type": "markdown",
   "id": "5d50bf56",
   "metadata": {},
   "source": [
    "## Passar para 3 camadas"
   ]
  },
  {
   "cell_type": "code",
   "execution_count": 3,
   "id": "b8ef29f4",
   "metadata": {},
   "outputs": [
    {
     "name": "stdout",
     "output_type": "stream",
     "text": [
      "Shape: (3000, 120, 120, 3)\t tipo: <class 'numpy.ndarray'>\n",
      "tempo de execução:9.09s\n"
     ]
    }
   ],
   "source": [
    "image_data = np.array([np.stack((resize(image_data[i],(TAMANHO_XY, TAMANHO_XY)),)*3, axis=-1) for i in range(0,3000)])\n",
    "\n",
    "print(f'Shape: {image_data.shape}\\t tipo: {type(image_data)}')\n",
    "\n",
    "print(\"tempo de execução:\"+str(round(time.time()-t1,2))+\"s\")"
   ]
  },
  {
   "cell_type": "markdown",
   "id": "abced661",
   "metadata": {},
   "source": [
    "## Distribuir o DataSet em trino/validação/teste"
   ]
  },
  {
   "cell_type": "code",
   "execution_count": 4,
   "id": "b9c6f289",
   "metadata": {},
   "outputs": [
    {
     "name": "stdout",
     "output_type": "stream",
     "text": [
      "\n",
      "tempo de execução:0.34s\n"
     ]
    }
   ],
   "source": [
    "t1=time.time()\n",
    "\n",
    "# dados -> treino e teste\n",
    "image_treino, image_teste, label_treino, label_teste = train_test_split(image_data, label_data, test_size=0.1, random_state=13)\n",
    "\n",
    "# convertendo os labels\n",
    "label_treino = np.array(label_treino) \n",
    "label_teste = np.array(label_teste)\n",
    "\n",
    "# Define per-fold score containers\n",
    "acc_per_fold = []\n",
    "loss_per_fold = []\n",
    "\n",
    "# Define the K-fold Cross Validator\n",
    "kfold = KFold(n_splits=3, shuffle=True)\n",
    "\n",
    "\n",
    "print(\"\\ntempo de execução:\"+str(round(time.time()-t1,2))+\"s\")"
   ]
  },
  {
   "cell_type": "markdown",
   "id": "5f601d0e",
   "metadata": {},
   "source": [
    "## Extraindo as features dos dados de treinamento"
   ]
  },
  {
   "cell_type": "code",
   "execution_count": 5,
   "id": "0a39b68e",
   "metadata": {},
   "outputs": [
    {
     "name": "stdout",
     "output_type": "stream",
     "text": [
      "tempo de execução:66.09s\n"
     ]
    }
   ],
   "source": [
    "t1=time.time()\n",
    "\n",
    "base_model = tf.keras.applications.ResNet50V2(weights='imagenet', include_top=False, input_shape=(TAMANHO_XY,TAMANHO_XY,3))\n",
    "\n",
    "features_treino = np.array(base_model.predict(image_treino))\n",
    "features_teste = np.array(base_model.predict(image_teste))\n",
    "\n",
    "del image_treino\n",
    "del image_teste\n",
    "\n",
    "print(\"tempo de execução:\"+str(round(time.time()-t1,2))+\"s\")"
   ]
  },
  {
   "cell_type": "markdown",
   "id": "a010150d",
   "metadata": {},
   "source": [
    "## Treinamento das camadas densas"
   ]
  },
  {
   "cell_type": "code",
   "execution_count": 6,
   "id": "887689bc",
   "metadata": {},
   "outputs": [
    {
     "name": "stdout",
     "output_type": "stream",
     "text": [
      "------------------------------------------------------------------------\n",
      "Training for fold 1 ...\n",
      "Epoch 1/30\n",
      "57/57 [==============================] - 7s 108ms/step - loss: 0.6791 - accuracy: 0.8356 - val_loss: 0.1697 - val_accuracy: 0.9500\n",
      "Epoch 2/30\n",
      "57/57 [==============================] - 6s 104ms/step - loss: 0.1957 - accuracy: 0.9422 - val_loss: 0.0959 - val_accuracy: 0.9789\n",
      "Epoch 3/30\n",
      "57/57 [==============================] - 6s 103ms/step - loss: 0.1059 - accuracy: 0.9633 - val_loss: 0.1145 - val_accuracy: 0.9756\n",
      "Epoch 4/30\n",
      "57/57 [==============================] - 6s 104ms/step - loss: 0.0573 - accuracy: 0.9761 - val_loss: 0.0758 - val_accuracy: 0.9889\n",
      "Epoch 5/30\n",
      "57/57 [==============================] - 6s 105ms/step - loss: 0.0529 - accuracy: 0.9806 - val_loss: 0.1028 - val_accuracy: 0.9800\n",
      "Epoch 6/30\n",
      "57/57 [==============================] - 6s 104ms/step - loss: 0.0364 - accuracy: 0.9889 - val_loss: 0.0861 - val_accuracy: 0.9867\n",
      "Epoch 7/30\n",
      "57/57 [==============================] - 6s 103ms/step - loss: 0.0312 - accuracy: 0.9883 - val_loss: 0.1042 - val_accuracy: 0.9844\n",
      "Epoch 8/30\n",
      "57/57 [==============================] - 6s 104ms/step - loss: 0.0315 - accuracy: 0.9889 - val_loss: 0.0839 - val_accuracy: 0.9889\n",
      "Epoch 9/30\n",
      "57/57 [==============================] - 6s 104ms/step - loss: 0.0374 - accuracy: 0.9872 - val_loss: 0.1455 - val_accuracy: 0.9722\n",
      "Epoch 10/30\n",
      "57/57 [==============================] - 6s 104ms/step - loss: 0.0207 - accuracy: 0.9911 - val_loss: 0.0986 - val_accuracy: 0.9867\n",
      "Epoch 11/30\n",
      "57/57 [==============================] - 6s 104ms/step - loss: 0.0281 - accuracy: 0.9906 - val_loss: 0.1259 - val_accuracy: 0.9700\n",
      "Epoch 12/30\n",
      "57/57 [==============================] - 6s 105ms/step - loss: 0.0156 - accuracy: 0.9950 - val_loss: 0.0881 - val_accuracy: 0.9878\n",
      "Epoch 13/30\n",
      "57/57 [==============================] - 6s 105ms/step - loss: 0.0117 - accuracy: 0.9956 - val_loss: 0.1035 - val_accuracy: 0.9856\n",
      "Epoch 14/30\n",
      "57/57 [==============================] - 6s 104ms/step - loss: 0.0109 - accuracy: 0.9956 - val_loss: 0.0937 - val_accuracy: 0.9889\n",
      "Epoch 15/30\n",
      "57/57 [==============================] - 6s 104ms/step - loss: 0.0045 - accuracy: 0.9983 - val_loss: 0.0838 - val_accuracy: 0.9900\n",
      "Epoch 16/30\n",
      "57/57 [==============================] - 6s 104ms/step - loss: 0.0111 - accuracy: 0.9950 - val_loss: 0.0784 - val_accuracy: 0.9878\n",
      "Epoch 17/30\n",
      "57/57 [==============================] - 6s 103ms/step - loss: 0.0060 - accuracy: 0.9983 - val_loss: 0.0952 - val_accuracy: 0.9889\n",
      "Epoch 18/30\n",
      "57/57 [==============================] - 6s 104ms/step - loss: 0.0021 - accuracy: 1.0000 - val_loss: 0.1022 - val_accuracy: 0.9889\n",
      "Epoch 19/30\n",
      "57/57 [==============================] - 6s 104ms/step - loss: 0.0066 - accuracy: 0.9967 - val_loss: 0.1043 - val_accuracy: 0.9889\n",
      "Epoch 20/30\n",
      "57/57 [==============================] - 6s 104ms/step - loss: 0.0097 - accuracy: 0.9983 - val_loss: 0.0980 - val_accuracy: 0.9900\n",
      "Epoch 21/30\n",
      "57/57 [==============================] - 6s 104ms/step - loss: 0.0132 - accuracy: 0.9939 - val_loss: 0.1005 - val_accuracy: 0.9900\n",
      "Epoch 22/30\n",
      "57/57 [==============================] - 6s 104ms/step - loss: 0.0108 - accuracy: 0.9961 - val_loss: 0.1304 - val_accuracy: 0.9811\n",
      "Epoch 23/30\n",
      "57/57 [==============================] - 6s 104ms/step - loss: 0.0143 - accuracy: 0.9950 - val_loss: 0.1146 - val_accuracy: 0.9856\n",
      "Epoch 24/30\n",
      "57/57 [==============================] - 6s 112ms/step - loss: 0.0055 - accuracy: 0.9983 - val_loss: 0.1278 - val_accuracy: 0.9833\n",
      "Epoch 25/30\n",
      "57/57 [==============================] - 6s 107ms/step - loss: 0.0070 - accuracy: 0.9978 - val_loss: 0.1074 - val_accuracy: 0.9856\n",
      "Epoch 26/30\n",
      "57/57 [==============================] - 7s 115ms/step - loss: 0.0034 - accuracy: 0.9989 - val_loss: 0.1048 - val_accuracy: 0.9878\n",
      "Epoch 27/30\n",
      "57/57 [==============================] - 6s 111ms/step - loss: 0.0046 - accuracy: 0.9989 - val_loss: 0.1034 - val_accuracy: 0.9844\n",
      "Epoch 28/30\n",
      "57/57 [==============================] - 6s 109ms/step - loss: 0.0081 - accuracy: 0.9961 - val_loss: 0.1148 - val_accuracy: 0.9878\n",
      "Epoch 29/30\n",
      "57/57 [==============================] - 6s 107ms/step - loss: 0.0088 - accuracy: 0.9956 - val_loss: 0.1042 - val_accuracy: 0.9878\n",
      "Epoch 30/30\n",
      "57/57 [==============================] - 7s 123ms/step - loss: 0.0111 - accuracy: 0.9961 - val_loss: 0.1112 - val_accuracy: 0.9900\n",
      "Score for fold 1: loss of 0.11116605997085571; accuracy of 99.00000095367432%\n",
      "------------------------------------------------------------------------\n",
      "Training for fold 2 ...\n",
      "Epoch 1/30\n",
      "57/57 [==============================] - 7s 127ms/step - loss: 0.1203 - accuracy: 0.9739 - val_loss: 0.0038 - val_accuracy: 0.9978\n",
      "Epoch 2/30\n",
      "57/57 [==============================] - 7s 120ms/step - loss: 0.0986 - accuracy: 0.9783 - val_loss: 0.0089 - val_accuracy: 0.9978\n",
      "Epoch 3/30\n",
      "57/57 [==============================] - 8s 135ms/step - loss: 0.0441 - accuracy: 0.9889 - val_loss: 0.0014 - val_accuracy: 1.0000\n",
      "Epoch 4/30\n",
      "57/57 [==============================] - 9s 150ms/step - loss: 0.0324 - accuracy: 0.9917 - val_loss: 0.0012 - val_accuracy: 1.0000\n",
      "Epoch 5/30\n",
      "57/57 [==============================] - 8s 139ms/step - loss: 0.0457 - accuracy: 0.9889 - val_loss: 8.6007e-04 - val_accuracy: 1.0000\n",
      "Epoch 6/30\n",
      "57/57 [==============================] - 7s 121ms/step - loss: 0.0160 - accuracy: 0.9944 - val_loss: 2.4839e-04 - val_accuracy: 1.0000\n",
      "Epoch 7/30\n",
      "57/57 [==============================] - 7s 120ms/step - loss: 0.0119 - accuracy: 0.9961 - val_loss: 0.0011 - val_accuracy: 1.0000\n",
      "Epoch 8/30\n",
      "57/57 [==============================] - 7s 118ms/step - loss: 0.0154 - accuracy: 0.9944 - val_loss: 0.0020 - val_accuracy: 0.9989\n",
      "Epoch 9/30\n",
      "57/57 [==============================] - 7s 127ms/step - loss: 0.0127 - accuracy: 0.9967 - val_loss: 0.0033 - val_accuracy: 0.9978\n",
      "Epoch 10/30\n",
      "57/57 [==============================] - 8s 136ms/step - loss: 0.0142 - accuracy: 0.9944 - val_loss: 5.8973e-04 - val_accuracy: 1.0000\n",
      "Epoch 11/30\n",
      "57/57 [==============================] - 7s 122ms/step - loss: 0.0028 - accuracy: 0.9994 - val_loss: 0.0017 - val_accuracy: 1.0000\n",
      "Epoch 12/30\n",
      "57/57 [==============================] - 7s 130ms/step - loss: 9.3854e-04 - accuracy: 1.0000 - val_loss: 0.0016 - val_accuracy: 1.0000\n",
      "Epoch 13/30\n",
      "57/57 [==============================] - 7s 123ms/step - loss: 0.0051 - accuracy: 0.9978 - val_loss: 0.0090 - val_accuracy: 0.9956\n",
      "Epoch 14/30\n",
      "57/57 [==============================] - 7s 120ms/step - loss: 0.0033 - accuracy: 0.9983 - val_loss: 0.0032 - val_accuracy: 0.9989\n",
      "Epoch 15/30\n",
      "57/57 [==============================] - 7s 116ms/step - loss: 0.0029 - accuracy: 0.9994 - val_loss: 0.0022 - val_accuracy: 0.9989\n",
      "Epoch 16/30\n",
      "57/57 [==============================] - 7s 118ms/step - loss: 0.0054 - accuracy: 0.9983 - val_loss: 0.0015 - val_accuracy: 1.0000\n",
      "Epoch 17/30\n",
      "57/57 [==============================] - 7s 123ms/step - loss: 0.0125 - accuracy: 0.9972 - val_loss: 0.0011 - val_accuracy: 1.0000\n",
      "Epoch 18/30\n",
      "57/57 [==============================] - 8s 138ms/step - loss: 0.0105 - accuracy: 0.9983 - val_loss: 0.0014 - val_accuracy: 1.0000\n",
      "Epoch 19/30\n",
      "57/57 [==============================] - 7s 117ms/step - loss: 0.0055 - accuracy: 0.9983 - val_loss: 0.0012 - val_accuracy: 1.0000\n",
      "Epoch 20/30\n",
      "57/57 [==============================] - 7s 116ms/step - loss: 0.0247 - accuracy: 0.9939 - val_loss: 0.0045 - val_accuracy: 0.9978\n",
      "Epoch 21/30\n",
      "57/57 [==============================] - 7s 115ms/step - loss: 0.0202 - accuracy: 0.9939 - val_loss: 0.0129 - val_accuracy: 0.9956\n",
      "Epoch 22/30\n",
      "57/57 [==============================] - 7s 116ms/step - loss: 0.0057 - accuracy: 0.9983 - val_loss: 0.0181 - val_accuracy: 0.9933\n",
      "Epoch 23/30\n",
      "57/57 [==============================] - 7s 125ms/step - loss: 0.0073 - accuracy: 0.9989 - val_loss: 0.0293 - val_accuracy: 0.9933\n",
      "Epoch 24/30\n",
      "57/57 [==============================] - 8s 137ms/step - loss: 0.0120 - accuracy: 0.9972 - val_loss: 0.0049 - val_accuracy: 0.9978\n",
      "Epoch 25/30\n",
      "57/57 [==============================] - 8s 133ms/step - loss: 0.0024 - accuracy: 0.9989 - val_loss: 0.0201 - val_accuracy: 0.9944\n",
      "Epoch 26/30\n"
     ]
    },
    {
     "name": "stdout",
     "output_type": "stream",
     "text": [
      "57/57 [==============================] - 7s 125ms/step - loss: 0.0054 - accuracy: 0.9972 - val_loss: 0.0204 - val_accuracy: 0.9944\n",
      "Epoch 27/30\n",
      "57/57 [==============================] - 7s 131ms/step - loss: 0.0116 - accuracy: 0.9967 - val_loss: 0.0129 - val_accuracy: 0.9967\n",
      "Epoch 28/30\n",
      "57/57 [==============================] - 8s 136ms/step - loss: 0.0218 - accuracy: 0.9961 - val_loss: 0.0169 - val_accuracy: 0.9933\n",
      "Epoch 29/30\n",
      "57/57 [==============================] - 7s 126ms/step - loss: 0.0165 - accuracy: 0.9967 - val_loss: 0.0248 - val_accuracy: 0.9922\n",
      "Epoch 30/30\n",
      "57/57 [==============================] - 8s 143ms/step - loss: 0.0046 - accuracy: 0.9978 - val_loss: 0.0649 - val_accuracy: 0.9867\n",
      "Score for fold 2: loss of 0.06492608040571213; accuracy of 98.66666793823242%\n",
      "------------------------------------------------------------------------\n",
      "Training for fold 3 ...\n",
      "Epoch 1/30\n",
      "57/57 [==============================] - 8s 132ms/step - loss: 0.0364 - accuracy: 0.9922 - val_loss: 5.3329e-04 - val_accuracy: 1.0000\n",
      "Epoch 2/30\n",
      "57/57 [==============================] - 7s 124ms/step - loss: 0.0514 - accuracy: 0.9900 - val_loss: 8.3332e-06 - val_accuracy: 1.0000\n",
      "Epoch 3/30\n",
      "57/57 [==============================] - 7s 129ms/step - loss: 0.0151 - accuracy: 0.9944 - val_loss: 0.0033 - val_accuracy: 0.9989\n",
      "Epoch 4/30\n",
      "57/57 [==============================] - 7s 125ms/step - loss: 0.0306 - accuracy: 0.9906 - val_loss: 1.7537e-05 - val_accuracy: 1.0000\n",
      "Epoch 5/30\n",
      "57/57 [==============================] - 7s 118ms/step - loss: 0.0032 - accuracy: 0.9978 - val_loss: 3.7848e-06 - val_accuracy: 1.0000\n",
      "Epoch 6/30\n",
      "57/57 [==============================] - 7s 128ms/step - loss: 0.0034 - accuracy: 0.9989 - val_loss: 1.1450e-05 - val_accuracy: 1.0000\n",
      "Epoch 7/30\n",
      "57/57 [==============================] - 7s 123ms/step - loss: 0.0063 - accuracy: 0.9983 - val_loss: 1.6925e-06 - val_accuracy: 1.0000\n",
      "Epoch 8/30\n",
      "57/57 [==============================] - 7s 124ms/step - loss: 0.0035 - accuracy: 0.9989 - val_loss: 9.5345e-05 - val_accuracy: 1.0000\n",
      "Epoch 9/30\n",
      "57/57 [==============================] - 7s 129ms/step - loss: 0.0052 - accuracy: 0.9989 - val_loss: 3.0087e-04 - val_accuracy: 1.0000\n",
      "Epoch 10/30\n",
      "57/57 [==============================] - 7s 127ms/step - loss: 0.0092 - accuracy: 0.9972 - val_loss: 8.2518e-04 - val_accuracy: 1.0000\n",
      "Epoch 11/30\n",
      "57/57 [==============================] - 7s 123ms/step - loss: 0.0048 - accuracy: 0.9978 - val_loss: 6.7962e-05 - val_accuracy: 1.0000\n",
      "Epoch 12/30\n",
      "57/57 [==============================] - 7s 122ms/step - loss: 0.0056 - accuracy: 0.9961 - val_loss: 2.7009e-05 - val_accuracy: 1.0000\n",
      "Epoch 13/30\n",
      "57/57 [==============================] - 7s 122ms/step - loss: 6.1362e-04 - accuracy: 1.0000 - val_loss: 6.1063e-06 - val_accuracy: 1.0000\n",
      "Epoch 14/30\n",
      "57/57 [==============================] - 7s 121ms/step - loss: 8.8282e-04 - accuracy: 1.0000 - val_loss: 4.3095e-06 - val_accuracy: 1.0000\n",
      "Epoch 15/30\n",
      "57/57 [==============================] - 7s 125ms/step - loss: 8.5769e-05 - accuracy: 1.0000 - val_loss: 5.3813e-06 - val_accuracy: 1.0000\n",
      "Epoch 16/30\n",
      "57/57 [==============================] - 7s 131ms/step - loss: 4.5363e-04 - accuracy: 1.0000 - val_loss: 2.1951e-06 - val_accuracy: 1.0000\n",
      "Epoch 17/30\n",
      "57/57 [==============================] - 8s 146ms/step - loss: 1.8638e-04 - accuracy: 1.0000 - val_loss: 8.6984e-07 - val_accuracy: 1.0000\n",
      "Epoch 18/30\n",
      "57/57 [==============================] - 8s 132ms/step - loss: 0.0016 - accuracy: 0.9994 - val_loss: 0.0051 - val_accuracy: 0.9978\n",
      "Epoch 19/30\n",
      "57/57 [==============================] - 8s 149ms/step - loss: 0.0108 - accuracy: 0.9972 - val_loss: 0.0031 - val_accuracy: 0.9989\n",
      "Epoch 20/30\n",
      "57/57 [==============================] - 9s 155ms/step - loss: 0.0178 - accuracy: 0.9956 - val_loss: 2.9873e-06 - val_accuracy: 1.0000\n",
      "Epoch 21/30\n",
      "57/57 [==============================] - 8s 144ms/step - loss: 0.0020 - accuracy: 0.9994 - val_loss: 7.6723e-06 - val_accuracy: 1.0000\n",
      "Epoch 22/30\n",
      "57/57 [==============================] - 8s 142ms/step - loss: 0.0070 - accuracy: 0.9972 - val_loss: 0.0011 - val_accuracy: 0.9989\n",
      "Epoch 23/30\n",
      "57/57 [==============================] - 8s 134ms/step - loss: 0.0068 - accuracy: 0.9983 - val_loss: 7.3136e-04 - val_accuracy: 1.0000\n",
      "Epoch 24/30\n",
      "57/57 [==============================] - 8s 145ms/step - loss: 0.0144 - accuracy: 0.9944 - val_loss: 0.0011 - val_accuracy: 0.9989\n",
      "Epoch 25/30\n",
      "57/57 [==============================] - 8s 138ms/step - loss: 0.0125 - accuracy: 0.9972 - val_loss: 4.1432e-04 - val_accuracy: 1.0000\n",
      "Epoch 26/30\n",
      "57/57 [==============================] - 9s 151ms/step - loss: 0.0031 - accuracy: 0.9989 - val_loss: 5.2956e-05 - val_accuracy: 1.0000\n",
      "Epoch 27/30\n",
      "57/57 [==============================] - 8s 135ms/step - loss: 6.4199e-04 - accuracy: 1.0000 - val_loss: 7.0357e-05 - val_accuracy: 1.0000\n",
      "Epoch 28/30\n",
      "57/57 [==============================] - 7s 118ms/step - loss: 0.0057 - accuracy: 0.9978 - val_loss: 0.0032 - val_accuracy: 0.9989\n",
      "Epoch 29/30\n",
      "57/57 [==============================] - 7s 123ms/step - loss: 0.0085 - accuracy: 0.9978 - val_loss: 1.9822e-04 - val_accuracy: 1.0000\n",
      "Epoch 30/30\n",
      "57/57 [==============================] - 7s 127ms/step - loss: 0.0128 - accuracy: 0.9967 - val_loss: 0.0035 - val_accuracy: 0.9989\n",
      "Score for fold 3: loss of 0.0035341265611350536; accuracy of 99.8888909816742%\n",
      "------------------------------------------------------------------------\n",
      "Score per fold\n",
      "------------------------------------------------------------------------\n",
      "> Fold 1 - Loss: 0.11116605997085571 - Accuracy: 99.00000095367432%\n",
      "------------------------------------------------------------------------\n",
      "> Fold 2 - Loss: 0.06492608040571213 - Accuracy: 98.66666793823242%\n",
      "------------------------------------------------------------------------\n",
      "> Fold 3 - Loss: 0.0035341265611350536 - Accuracy: 99.8888909816742%\n",
      "------------------------------------------------------------------------\n",
      "Average scores for all folds:\n",
      "> Accuracy: 99.18518662452698 (+- 0.5158666439412934)\n",
      "> Loss: 0.05987542231256763\n",
      "------------------------------------------------------------------------\n",
      "tempo de execução:625.78s\n"
     ]
    }
   ],
   "source": [
    "t1=time.time()\n",
    "\n",
    "model = Sequential()\n",
    "\n",
    "model.add(Flatten(input_shape=np.shape(features_treino[0])))\n",
    "\n",
    "model.add(Dropout(0.4))\n",
    "model.add(Dense(500, activation='relu'))  \n",
    "model.add(Dropout(0.4))\n",
    "model.add(Dense(1, activation='sigmoid'))\n",
    "\n",
    "adam = Adam(lr=0.0001)\n",
    "model.compile(optimizer=adam, \n",
    "              loss='binary_crossentropy',\n",
    "              metrics=['accuracy'])\n",
    "\n",
    "fold_no = 1\n",
    "for train, validation in kfold.split(features_treino, label_treino):\n",
    "    \n",
    "    # Generate a print\n",
    "    print('------------------------------------------------------------------------')\n",
    "    print(f'Training for fold {fold_no} ...')\n",
    "\n",
    "    history=model.fit(x=features_treino[train], y=label_treino[train], \n",
    "                      epochs=30, \n",
    "                      batch_size=32,\n",
    "                      validation_data=(features_treino[validation],label_treino[validation]),\n",
    "                      verbose=1)\n",
    "    \n",
    "    # Generate generalization metrics\n",
    "    scores = model.evaluate(features_treino[validation], label_treino[validation], verbose=0)\n",
    "    print(f'Score for fold {fold_no}: {model.metrics_names[0]} of {scores[0]}; {model.metrics_names[1]} of {scores[1]*100}%')\n",
    "    acc_per_fold.append(scores[1] * 100)\n",
    "    loss_per_fold.append(scores[0])\n",
    "    \n",
    "    # Increase fold number\n",
    "    fold_no = fold_no + 1\n",
    "\n",
    "    \n",
    "# == Provide average scores ==\n",
    "print('------------------------------------------------------------------------')\n",
    "print('Score per fold')\n",
    "for i in range(0, len(acc_per_fold)):\n",
    "    print('------------------------------------------------------------------------')\n",
    "    print(f'> Fold {i+1} - Loss: {loss_per_fold[i]} - Accuracy: {acc_per_fold[i]}%')\n",
    "print('------------------------------------------------------------------------')\n",
    "print('Average scores for all folds:')\n",
    "print(f'> Accuracy: {np.mean(acc_per_fold)} (+- {np.std(acc_per_fold)})')\n",
    "print(f'> Loss: {np.mean(loss_per_fold)}')\n",
    "print('------------------------------------------------------------------------')\n",
    "    \n",
    "\n",
    "print(\"tempo de execução:\"+str(round(time.time()-t1,2))+\"s\")"
   ]
  },
  {
   "cell_type": "code",
   "execution_count": 7,
   "id": "5499eba8",
   "metadata": {},
   "outputs": [
    {
     "name": "stdout",
     "output_type": "stream",
     "text": [
      "tempo de execução:0.22s\n"
     ]
    },
    {
     "data": {
      "image/png": "[encoded data removed]",
      "text/plain": [
       "<Figure size 1080x360 with 2 Axes>"
      ]
     },
     "metadata": {
      "needs_background": "light"
     },
     "output_type": "display_data"
    }
   ],
   "source": [
    "t1=time.time()\n",
    "\n",
    "# análise dos resultados\n",
    "\n",
    "plt.figure(figsize=(15,5))\n",
    "plt.subplot(1,2,1)\n",
    "plt.plot(history.history[\"loss\"], label=\"treino\")\n",
    "plt.plot(history.history[\"val_loss\"], label=\"validacao\")\n",
    "plt.xlabel(\"epocas\")\n",
    "plt.ylabel(\"Loss\")\n",
    "plt.legend();\n",
    "plt.subplot(1,2,2)\n",
    "plt.plot(history.history[\"accuracy\"], label=\"treino\")\n",
    "plt.plot(history.history[\"val_accuracy\"], label=\"validacao\")\n",
    "plt.xlabel(\"epocas\")\n",
    "plt.ylabel(\"acurácia\")\n",
    "plt.legend();\n",
    "\n",
    "print(\"tempo de execução:\"+str(round(time.time()-t1,2))+\"s\")"
   ]
  },
  {
   "cell_type": "code",
   "execution_count": 8,
   "id": "f68f68af",
   "metadata": {},
   "outputs": [
    {
     "name": "stdout",
     "output_type": "stream",
     "text": [
      "              precision    recall  f1-score   support\n",
      "\n",
      "     Class 0       0.99      0.99      0.99       156\n",
      "     Class 1       0.99      0.99      0.99       144\n",
      "\n",
      "    accuracy                           0.99       300\n",
      "   macro avg       0.99      0.99      0.99       300\n",
      "weighted avg       0.99      0.99      0.99       300\n",
      "\n",
      "Acurácia: 99.0%\n",
      "Sensibilidade: 99.3%\n",
      "Especificidade: 98.73%\n",
      "\n",
      "tempo de execução:0.22s\n"
     ]
    }
   ],
   "source": [
    "t1=time.time()\n",
    "\n",
    "predicted_classes = model.predict(features_teste)\n",
    "predicted_classes = np.round(predicted_classes)\n",
    "\n",
    "cmat = confusion_matrix(label_teste, predicted_classes)\n",
    "\n",
    "cmat_df = pd.DataFrame(cmat,\n",
    "                     index = ['0','1'], \n",
    "                     columns = ['0','1'])\n",
    "\n",
    "target_names = [\"Class {}\".format(i) for i in range(2)]\n",
    "\n",
    "print(classification_report(label_teste, predicted_classes, target_names=target_names))\n",
    "\n",
    "# Definição das medidas de acurácia, sensibilidade e especificidade\n",
    "acuracia = np.sum(np.diag(cmat))*100/np.sum(cmat)\n",
    "sensibilidade = cmat_df.iloc[1][1]/(cmat_df.iloc[0][1]+cmat_df.iloc[1][1])*100\n",
    "especificidade = cmat_df.iloc[0][0]/(cmat_df.iloc[1][0]+cmat_df.iloc[0][0])*100\n",
    "\n",
    "print(f'Acurácia: {round(acuracia, 2)}%\\nSensibilidade: {round(sensibilidade, 2)}%\\nEspecificidade: {round(especificidade, 2)}%')\n",
    "\n",
    "print(\"\\ntempo de execução:\"+str(round(time.time()-t1,2))+\"s\")"
   ]
  },
  {
   "cell_type": "code",
   "execution_count": 9,
   "id": "29960287",
   "metadata": {},
   "outputs": [
    {
     "data": {
      "image/png": "[encoded data removed]",
      "text/plain": [
       "<Figure size 720x432 with 2 Axes>"
      ]
     },
     "metadata": {
      "needs_background": "light"
     },
     "output_type": "display_data"
    },
    {
     "name": "stdout",
     "output_type": "stream",
     "text": [
      "tempo de execução:0.17s\n",
      "tempo de execução TOTAL:11.71Min\n"
     ]
    }
   ],
   "source": [
    "t1=time.time()\n",
    "\n",
    "#Plotando:\n",
    "plt.figure(figsize=(10,6))\n",
    "sns.heatmap(cmat_df, annot=True,fmt=\"d\")\n",
    "plt.title('Matriz de Confusão sem normalização')\n",
    "plt.ylabel('Valores atuais')\n",
    "plt.xlabel('Valores preditos')\n",
    "plt.show()\n",
    "\n",
    "print(\"tempo de execução:\"+str(round(time.time()-t1,2))+\"s\")\n",
    "print(\"tempo de execução TOTAL:\"+str(round((time.time()-t2)/60,2))+\"Min\")"
   ]
  },
  {
   "cell_type": "code",
   "execution_count": null,
   "id": "79fc7e51",
   "metadata": {},
   "outputs": [],
   "source": []
  }
 ],
 "metadata": {
  "kernelspec": {
   "display_name": "Python 3",
   "language": "python",
   "name": "python3"
  },
  "language_info": {
   "codemirror_mode": {
    "name": "ipython",
    "version": 3
   },
   "file_extension": ".py",
   "mimetype": "text/x-python",
   "name": "python",
   "nbconvert_exporter": "python",
   "pygments_lexer": "ipython3",
   "version": "3.9.4"
  }
 },
 "nbformat": 4,
 "nbformat_minor": 5
}
